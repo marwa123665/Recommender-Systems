{
  "cells": [
    {
      "cell_type": "markdown",
      "metadata": {
        "id": "a-8AE1rcoUE6"
      },
      "source": [
        "$$ ITI \\space AI-Pro: \\space Intake \\space 44 $$\n",
        "$$ Recommender \\space Systems $$\n",
        "$$ Lab \\space no. \\space 2 $$"
      ]
    },
    {
      "cell_type": "markdown",
      "metadata": {
        "id": "-5DysE0zoUFA"
      },
      "source": [
        "# `01` Import Necessary Libraries"
      ]
    },
    {
      "cell_type": "markdown",
      "metadata": {
        "id": "knG5dnP7oUFB"
      },
      "source": [
        "## `i` Default Libraries"
      ]
    },
    {
      "cell_type": "code",
      "execution_count": 11,
      "metadata": {},
      "outputs": [
        {
          "name": "stderr",
          "output_type": "stream",
          "text": [
            "DEPRECATION: Loading egg at c:\\python311\\lib\\site-packages\\vboxapi-1.0-py3.11.egg is deprecated. pip 24.3 will enforce this behaviour change. A possible replacement is to use pip for package installation.. Discussion can be found at https://github.com/pypa/pip/issues/12330\n"
          ]
        },
        {
          "name": "stdout",
          "output_type": "stream",
          "text": [
            "Requirement already satisfied: scikit-surprise in c:\\python311\\lib\\site-packages (1.1.3)\n",
            "Requirement already satisfied: joblib>=1.0.0 in c:\\python311\\lib\\site-packages (from scikit-surprise) (1.3.2)\n",
            "Requirement already satisfied: numpy>=1.17.3 in c:\\python311\\lib\\site-packages (from scikit-surprise) (1.26.3)\n",
            "Requirement already satisfied: scipy>=1.3.2 in c:\\python311\\lib\\site-packages (from scikit-surprise) (1.11.4)\n"
          ]
        }
      ],
      "source": [
        "!pip install scikit-surprise --user"
      ]
    },
    {
      "cell_type": "code",
      "execution_count": 69,
      "metadata": {
        "id": "2ka2hsQPoUFB"
      },
      "outputs": [],
      "source": [
        "import numpy as np\n",
        "import pandas as pd\n",
        "from surprise.reader import Reader\n",
        "from surprise.dataset import Dataset\n",
        "from surprise.model_selection import train_test_split\n",
        "from surprise.prediction_algorithms.knns import KNNWithMeans"
      ]
    },
    {
      "cell_type": "markdown",
      "metadata": {
        "id": "RCmRe4wBoUFD"
      },
      "source": [
        "## `ii` Additional Libraries\n",
        "Add imports for additional libraries you used throughout the notebook"
      ]
    },
    {
      "cell_type": "code",
      "execution_count": 70,
      "metadata": {
        "id": "fHxX_AIjoUFD"
      },
      "outputs": [],
      "source": [
        "from sklearn.preprocessing import MinMaxScaler\n",
        "from sklearn.preprocessing import OneHotEncoder"
      ]
    },
    {
      "cell_type": "markdown",
      "metadata": {
        "id": "bBYJiB8yoUFE"
      },
      "source": [
        "----------------------------\n",
        "\n",
        "# `02` Load Data\n",
        "\n",
        " The dataset will have the following columns :\n",
        "   - song_id (String) : Unique identified for the song\n",
        "   - user_id (String) : Unique identifier for the user\n",
        "   - song_genre (Integer) : An integer representing a genre for the song, value is between 1 and 5, indicating that there are 5 unique genres. Each song can only have 1 genre\n",
        "   - artist_id (String) : Unique identifier for the author of the song\n",
        "   - n_listen (Integer) : The number of times this user has heard the song (0 -> 15)\n",
        "   - publish_year (Integer) : The year of song publishing"
      ]
    },
    {
      "cell_type": "code",
      "execution_count": 71,
      "metadata": {
        "id": "VVOMWeL3oUFE",
        "outputId": "0e818502-1154-431a-ad5e-943186545b00"
      },
      "outputs": [
        {
          "data": {
            "text/html": [
              "<div>\n",
              "<style scoped>\n",
              "    .dataframe tbody tr th:only-of-type {\n",
              "        vertical-align: middle;\n",
              "    }\n",
              "\n",
              "    .dataframe tbody tr th {\n",
              "        vertical-align: top;\n",
              "    }\n",
              "\n",
              "    .dataframe thead th {\n",
              "        text-align: right;\n",
              "    }\n",
              "</style>\n",
              "<table border=\"1\" class=\"dataframe\">\n",
              "  <thead>\n",
              "    <tr style=\"text-align: right;\">\n",
              "      <th></th>\n",
              "      <th>song_id</th>\n",
              "      <th>artist_id</th>\n",
              "      <th>song_genre</th>\n",
              "      <th>user_id</th>\n",
              "      <th>n_listen</th>\n",
              "      <th>publish_year</th>\n",
              "    </tr>\n",
              "  </thead>\n",
              "  <tbody>\n",
              "    <tr>\n",
              "      <th>0</th>\n",
              "      <td>537</td>\n",
              "      <td>368</td>\n",
              "      <td>4</td>\n",
              "      <td>2066</td>\n",
              "      <td>13</td>\n",
              "      <td>2002</td>\n",
              "    </tr>\n",
              "    <tr>\n",
              "      <th>1</th>\n",
              "      <td>921</td>\n",
              "      <td>107</td>\n",
              "      <td>1</td>\n",
              "      <td>1179</td>\n",
              "      <td>5</td>\n",
              "      <td>2006</td>\n",
              "    </tr>\n",
              "    <tr>\n",
              "      <th>2</th>\n",
              "      <td>352</td>\n",
              "      <td>188</td>\n",
              "      <td>1</td>\n",
              "      <td>1468</td>\n",
              "      <td>11</td>\n",
              "      <td>2013</td>\n",
              "    </tr>\n",
              "    <tr>\n",
              "      <th>3</th>\n",
              "      <td>853</td>\n",
              "      <td>370</td>\n",
              "      <td>4</td>\n",
              "      <td>460</td>\n",
              "      <td>9</td>\n",
              "      <td>2020</td>\n",
              "    </tr>\n",
              "    <tr>\n",
              "      <th>4</th>\n",
              "      <td>479</td>\n",
              "      <td>408</td>\n",
              "      <td>2</td>\n",
              "      <td>1125</td>\n",
              "      <td>3</td>\n",
              "      <td>2020</td>\n",
              "    </tr>\n",
              "  </tbody>\n",
              "</table>\n",
              "</div>"
            ],
            "text/plain": [
              "   song_id  artist_id  song_genre  user_id  n_listen  publish_year\n",
              "0      537        368           4     2066        13          2002\n",
              "1      921        107           1     1179         5          2006\n",
              "2      352        188           1     1468        11          2013\n",
              "3      853        370           4      460         9          2020\n",
              "4      479        408           2     1125         3          2020"
            ]
          },
          "execution_count": 71,
          "metadata": {},
          "output_type": "execute_result"
        }
      ],
      "source": [
        "data = pd.read_csv(\"Data/songs_data.csv\")\n",
        "data.head()"
      ]
    },
    {
      "cell_type": "markdown",
      "metadata": {
        "id": "vtA_xwXIoUFF"
      },
      "source": [
        "--------------------------\n",
        "\n",
        "# `03` Content-based Filtering\n",
        "\n",
        "Practice for content-based filtering on dummy data"
      ]
    },
    {
      "cell_type": "markdown",
      "metadata": {
        "id": "YYweuJ22oUFF"
      },
      "source": [
        "## `i` Feature Engineering/Selection\n",
        "Construct the item vector representation matrix from the `data` above"
      ]
    },
    {
      "cell_type": "code",
      "execution_count": 72,
      "metadata": {
        "id": "m2JhA3QloUFF"
      },
      "outputs": [
        {
          "name": "stderr",
          "output_type": "stream",
          "text": [
            "c:\\Python311\\Lib\\site-packages\\sklearn\\preprocessing\\_encoders.py:975: FutureWarning: `sparse` was renamed to `sparse_output` in version 1.2 and will be removed in 1.4. `sparse_output` is ignored unless you leave `sparse` to its default value.\n",
            "  warnings.warn(\n"
          ]
        },
        {
          "data": {
            "text/html": [
              "<div>\n",
              "<style scoped>\n",
              "    .dataframe tbody tr th:only-of-type {\n",
              "        vertical-align: middle;\n",
              "    }\n",
              "\n",
              "    .dataframe tbody tr th {\n",
              "        vertical-align: top;\n",
              "    }\n",
              "\n",
              "    .dataframe thead th {\n",
              "        text-align: right;\n",
              "    }\n",
              "</style>\n",
              "<table border=\"1\" class=\"dataframe\">\n",
              "  <thead>\n",
              "    <tr style=\"text-align: right;\">\n",
              "      <th></th>\n",
              "      <th>artist_id</th>\n",
              "      <th>n_listen</th>\n",
              "      <th>publish_year</th>\n",
              "      <th>song_genre_1</th>\n",
              "      <th>song_genre_2</th>\n",
              "      <th>song_genre_3</th>\n",
              "      <th>song_genre_4</th>\n",
              "      <th>song_genre_5</th>\n",
              "    </tr>\n",
              "    <tr>\n",
              "      <th>song_id</th>\n",
              "      <th></th>\n",
              "      <th></th>\n",
              "      <th></th>\n",
              "      <th></th>\n",
              "      <th></th>\n",
              "      <th></th>\n",
              "      <th></th>\n",
              "      <th></th>\n",
              "    </tr>\n",
              "  </thead>\n",
              "  <tbody>\n",
              "    <tr>\n",
              "      <th>537</th>\n",
              "      <td>368</td>\n",
              "      <td>13</td>\n",
              "      <td>2002</td>\n",
              "      <td>0.0</td>\n",
              "      <td>0.0</td>\n",
              "      <td>0.0</td>\n",
              "      <td>1.0</td>\n",
              "      <td>0.0</td>\n",
              "    </tr>\n",
              "    <tr>\n",
              "      <th>921</th>\n",
              "      <td>107</td>\n",
              "      <td>5</td>\n",
              "      <td>2006</td>\n",
              "      <td>1.0</td>\n",
              "      <td>0.0</td>\n",
              "      <td>0.0</td>\n",
              "      <td>0.0</td>\n",
              "      <td>0.0</td>\n",
              "    </tr>\n",
              "    <tr>\n",
              "      <th>352</th>\n",
              "      <td>188</td>\n",
              "      <td>11</td>\n",
              "      <td>2013</td>\n",
              "      <td>1.0</td>\n",
              "      <td>0.0</td>\n",
              "      <td>0.0</td>\n",
              "      <td>0.0</td>\n",
              "      <td>0.0</td>\n",
              "    </tr>\n",
              "    <tr>\n",
              "      <th>853</th>\n",
              "      <td>370</td>\n",
              "      <td>9</td>\n",
              "      <td>2020</td>\n",
              "      <td>0.0</td>\n",
              "      <td>0.0</td>\n",
              "      <td>0.0</td>\n",
              "      <td>1.0</td>\n",
              "      <td>0.0</td>\n",
              "    </tr>\n",
              "    <tr>\n",
              "      <th>479</th>\n",
              "      <td>408</td>\n",
              "      <td>3</td>\n",
              "      <td>2020</td>\n",
              "      <td>0.0</td>\n",
              "      <td>1.0</td>\n",
              "      <td>0.0</td>\n",
              "      <td>0.0</td>\n",
              "      <td>0.0</td>\n",
              "    </tr>\n",
              "  </tbody>\n",
              "</table>\n",
              "</div>"
            ],
            "text/plain": [
              "         artist_id  n_listen  publish_year  song_genre_1  song_genre_2  \\\n",
              "song_id                                                                  \n",
              "537            368        13          2002           0.0           0.0   \n",
              "921            107         5          2006           1.0           0.0   \n",
              "352            188        11          2013           1.0           0.0   \n",
              "853            370         9          2020           0.0           0.0   \n",
              "479            408         3          2020           0.0           1.0   \n",
              "\n",
              "         song_genre_3  song_genre_4  song_genre_5  \n",
              "song_id                                            \n",
              "537               0.0           1.0           0.0  \n",
              "921               0.0           0.0           0.0  \n",
              "352               0.0           0.0           0.0  \n",
              "853               0.0           1.0           0.0  \n",
              "479               0.0           0.0           0.0  "
            ]
          },
          "execution_count": 72,
          "metadata": {},
          "output_type": "execute_result"
        }
      ],
      "source": [
        "encoder = OneHotEncoder(sparse=False)\n",
        "encoded_features = encoder.fit_transform(data[['song_genre']])\n",
        "encoded_data = pd.DataFrame(encoded_features, columns=encoder.get_feature_names_out(['song_genre']))\n",
        "data_encoded = pd.concat([data, encoded_data], axis=1)\n",
        "\n",
        "#data_encoded = pd.get_dummies(data, columns=['song_genre'])\n",
        "# scaler = MinMaxScaler()\n",
        "\n",
        "# data_encoded[['n_listen', 'publish_year']] = scaler.fit_transform(data_encoded[['n_listen', 'publish_year']])\n",
        "item_features = ['song_id', 'artist_id', 'n_listen', 'publish_year'] + list(data_encoded.columns[data_encoded.columns.str.startswith('song_genre_')])\n",
        "item_vectors = data_encoded[item_features].set_index('song_id')\n",
        "item_vectors.head()\n"
      ]
    },
    {
      "cell_type": "markdown",
      "metadata": {
        "id": "b1a5UYKfoUFG"
      },
      "source": [
        "## `ii` Utility Matrix\n",
        "Construct utility matrix for the loaded dataframe `data`"
      ]
    },
    {
      "cell_type": "code",
      "execution_count": 73,
      "metadata": {},
      "outputs": [
        {
          "data": {
            "text/html": [
              "<div>\n",
              "<style scoped>\n",
              "    .dataframe tbody tr th:only-of-type {\n",
              "        vertical-align: middle;\n",
              "    }\n",
              "\n",
              "    .dataframe tbody tr th {\n",
              "        vertical-align: top;\n",
              "    }\n",
              "\n",
              "    .dataframe thead th {\n",
              "        text-align: right;\n",
              "    }\n",
              "</style>\n",
              "<table border=\"1\" class=\"dataframe\">\n",
              "  <thead>\n",
              "    <tr style=\"text-align: right;\">\n",
              "      <th>song_id</th>\n",
              "      <th>1</th>\n",
              "      <th>2</th>\n",
              "      <th>3</th>\n",
              "      <th>4</th>\n",
              "      <th>5</th>\n",
              "      <th>6</th>\n",
              "      <th>7</th>\n",
              "      <th>8</th>\n",
              "      <th>9</th>\n",
              "      <th>10</th>\n",
              "      <th>...</th>\n",
              "      <th>991</th>\n",
              "      <th>992</th>\n",
              "      <th>993</th>\n",
              "      <th>994</th>\n",
              "      <th>995</th>\n",
              "      <th>996</th>\n",
              "      <th>997</th>\n",
              "      <th>998</th>\n",
              "      <th>999</th>\n",
              "      <th>1000</th>\n",
              "    </tr>\n",
              "    <tr>\n",
              "      <th>user_id</th>\n",
              "      <th></th>\n",
              "      <th></th>\n",
              "      <th></th>\n",
              "      <th></th>\n",
              "      <th></th>\n",
              "      <th></th>\n",
              "      <th></th>\n",
              "      <th></th>\n",
              "      <th></th>\n",
              "      <th></th>\n",
              "      <th></th>\n",
              "      <th></th>\n",
              "      <th></th>\n",
              "      <th></th>\n",
              "      <th></th>\n",
              "      <th></th>\n",
              "      <th></th>\n",
              "      <th></th>\n",
              "      <th></th>\n",
              "      <th></th>\n",
              "      <th></th>\n",
              "    </tr>\n",
              "  </thead>\n",
              "  <tbody>\n",
              "    <tr>\n",
              "      <th>1</th>\n",
              "      <td>0.0</td>\n",
              "      <td>0.0</td>\n",
              "      <td>0.0</td>\n",
              "      <td>0.0</td>\n",
              "      <td>0.0</td>\n",
              "      <td>0.0</td>\n",
              "      <td>6.0</td>\n",
              "      <td>0.0</td>\n",
              "      <td>0.0</td>\n",
              "      <td>0.0</td>\n",
              "      <td>...</td>\n",
              "      <td>0.0</td>\n",
              "      <td>0.0</td>\n",
              "      <td>0.0</td>\n",
              "      <td>0.0</td>\n",
              "      <td>2.0</td>\n",
              "      <td>0.0</td>\n",
              "      <td>0.0</td>\n",
              "      <td>0.0</td>\n",
              "      <td>0.0</td>\n",
              "      <td>0.0</td>\n",
              "    </tr>\n",
              "    <tr>\n",
              "      <th>2</th>\n",
              "      <td>15.0</td>\n",
              "      <td>0.0</td>\n",
              "      <td>6.0</td>\n",
              "      <td>0.0</td>\n",
              "      <td>0.0</td>\n",
              "      <td>0.0</td>\n",
              "      <td>0.0</td>\n",
              "      <td>0.0</td>\n",
              "      <td>1.0</td>\n",
              "      <td>0.0</td>\n",
              "      <td>...</td>\n",
              "      <td>0.0</td>\n",
              "      <td>0.0</td>\n",
              "      <td>8.0</td>\n",
              "      <td>0.0</td>\n",
              "      <td>0.0</td>\n",
              "      <td>0.0</td>\n",
              "      <td>0.0</td>\n",
              "      <td>11.0</td>\n",
              "      <td>0.0</td>\n",
              "      <td>6.0</td>\n",
              "    </tr>\n",
              "    <tr>\n",
              "      <th>3</th>\n",
              "      <td>6.0</td>\n",
              "      <td>0.0</td>\n",
              "      <td>0.0</td>\n",
              "      <td>0.0</td>\n",
              "      <td>0.0</td>\n",
              "      <td>0.0</td>\n",
              "      <td>0.0</td>\n",
              "      <td>0.0</td>\n",
              "      <td>5.0</td>\n",
              "      <td>0.0</td>\n",
              "      <td>...</td>\n",
              "      <td>11.0</td>\n",
              "      <td>0.0</td>\n",
              "      <td>0.0</td>\n",
              "      <td>0.0</td>\n",
              "      <td>0.0</td>\n",
              "      <td>4.0</td>\n",
              "      <td>0.0</td>\n",
              "      <td>0.0</td>\n",
              "      <td>0.0</td>\n",
              "      <td>0.0</td>\n",
              "    </tr>\n",
              "    <tr>\n",
              "      <th>4</th>\n",
              "      <td>0.0</td>\n",
              "      <td>0.0</td>\n",
              "      <td>0.0</td>\n",
              "      <td>0.0</td>\n",
              "      <td>0.0</td>\n",
              "      <td>0.0</td>\n",
              "      <td>0.0</td>\n",
              "      <td>0.0</td>\n",
              "      <td>0.0</td>\n",
              "      <td>11.0</td>\n",
              "      <td>...</td>\n",
              "      <td>0.0</td>\n",
              "      <td>0.0</td>\n",
              "      <td>0.0</td>\n",
              "      <td>0.0</td>\n",
              "      <td>0.0</td>\n",
              "      <td>0.0</td>\n",
              "      <td>0.0</td>\n",
              "      <td>0.0</td>\n",
              "      <td>0.0</td>\n",
              "      <td>0.0</td>\n",
              "    </tr>\n",
              "    <tr>\n",
              "      <th>5</th>\n",
              "      <td>0.0</td>\n",
              "      <td>0.0</td>\n",
              "      <td>0.0</td>\n",
              "      <td>0.0</td>\n",
              "      <td>0.0</td>\n",
              "      <td>0.0</td>\n",
              "      <td>0.0</td>\n",
              "      <td>0.0</td>\n",
              "      <td>0.0</td>\n",
              "      <td>0.0</td>\n",
              "      <td>...</td>\n",
              "      <td>0.0</td>\n",
              "      <td>0.0</td>\n",
              "      <td>0.0</td>\n",
              "      <td>0.0</td>\n",
              "      <td>0.0</td>\n",
              "      <td>0.0</td>\n",
              "      <td>0.0</td>\n",
              "      <td>0.0</td>\n",
              "      <td>0.0</td>\n",
              "      <td>13.0</td>\n",
              "    </tr>\n",
              "  </tbody>\n",
              "</table>\n",
              "<p>5 rows × 1000 columns</p>\n",
              "</div>"
            ],
            "text/plain": [
              "song_id  1     2     3     4     5     6     7     8     9     10    ...  \\\n",
              "user_id                                                              ...   \n",
              "1         0.0   0.0   0.0   0.0   0.0   0.0   6.0   0.0   0.0   0.0  ...   \n",
              "2        15.0   0.0   6.0   0.0   0.0   0.0   0.0   0.0   1.0   0.0  ...   \n",
              "3         6.0   0.0   0.0   0.0   0.0   0.0   0.0   0.0   5.0   0.0  ...   \n",
              "4         0.0   0.0   0.0   0.0   0.0   0.0   0.0   0.0   0.0  11.0  ...   \n",
              "5         0.0   0.0   0.0   0.0   0.0   0.0   0.0   0.0   0.0   0.0  ...   \n",
              "\n",
              "song_id  991   992   993   994   995   996   997   998   999   1000  \n",
              "user_id                                                              \n",
              "1         0.0   0.0   0.0   0.0   2.0   0.0   0.0   0.0   0.0   0.0  \n",
              "2         0.0   0.0   8.0   0.0   0.0   0.0   0.0  11.0   0.0   6.0  \n",
              "3        11.0   0.0   0.0   0.0   0.0   4.0   0.0   0.0   0.0   0.0  \n",
              "4         0.0   0.0   0.0   0.0   0.0   0.0   0.0   0.0   0.0   0.0  \n",
              "5         0.0   0.0   0.0   0.0   0.0   0.0   0.0   0.0   0.0  13.0  \n",
              "\n",
              "[5 rows x 1000 columns]"
            ]
          },
          "execution_count": 73,
          "metadata": {},
          "output_type": "execute_result"
        }
      ],
      "source": [
        "utility_matrix = data.pivot_table(index='user_id', columns='song_id', values='n_listen', fill_value=0)\n",
        "utility_matrix.head()"
      ]
    },
    {
      "cell_type": "markdown",
      "metadata": {
        "id": "E0j1DPNfoUFG"
      },
      "source": [
        "## `iii` Item-Item Similarity Matrix\n",
        "\n",
        "Construct item-item (Cosine/Adjusted Cosine) similarity matrix."
      ]
    },
    {
      "cell_type": "code",
      "execution_count": 74,
      "metadata": {},
      "outputs": [],
      "source": [
        "def adjusted_cosine_sim(vec_a, vec_b):\n",
        "    \"\"\"\n",
        "    Returns the adjusted cosine similarity score between two vectors.\n",
        "\n",
        "            Parameters:\n",
        "                vec_a (pandas.Series): Vector A\n",
        "                vec_b (pandas.Series): Vector B\n",
        "\n",
        "            Returns:\n",
        "                sim_score (float): Similarity score between vectors vec_a and vec_b\n",
        "    \"\"\"\n",
        "\n",
        "    adj_a = vec_a - np.mean(vec_a)\n",
        "    adj_b = vec_b - np.mean(vec_b)\n",
        "    sim_score = np.dot(adj_a, adj_b) / (np.linalg.norm(adj_a)*np.linalg.norm(adj_b))\n",
        "    # sim_score = cosine_sim(adj_a, adj_b)\n",
        "\n",
        "    return sim_score"
      ]
    },
    {
      "cell_type": "code",
      "execution_count": 40,
      "metadata": {
        "id": "TifUw2iwoUFG"
      },
      "outputs": [],
      "source": [
        "# sim_mat = pd.DataFrame(index=item_vectors.index, columns=item_vectors.index)\n",
        "# for i in item_vectors.index:\n",
        "#     for j in item_vectors.index:\n",
        "#         if i != j:\n",
        "#             sim_mat.loc[i, j] = adjusted_cosine_sim(item_vectors.loc[i], item_vectors.loc[j])\n",
        "#         else:\n",
        "#             sim_mat.loc[i, j] = 1\n",
        "\n",
        "# sim_df = pd.DataFrame(sim_mat, index=item_vectors.index, columns=item_vectors.index)\n",
        "# sim_df=sim_df.astype(float)\n",
        "# sim_df.head()"
      ]
    },
    {
      "cell_type": "code",
      "execution_count": 8,
      "metadata": {},
      "outputs": [],
      "source": [
        "def apply_similarity_matrix(item_vectors,similarity_func):\n",
        "  item_item_sim=np.zeros((len(item_vectors),len(item_vectors)))\n",
        "  for i,(_,vec_a) in enumerate(item_vectors.iterrows()):\n",
        "    for j,(_,vec_b) in enumerate(item_vectors.iterrows()):\n",
        "      sim_score=similarity_func(vec_a,vec_b)\n",
        "      item_item_sim[i,j]=sim_score\n",
        "  return item_item_sim\n",
        "sim_df=apply_similarity_matrix(item_vectors,adjusted_cosine_sim)"
      ]
    },
    {
      "cell_type": "code",
      "execution_count": 76,
      "metadata": {},
      "outputs": [],
      "source": [
        "#both crashes the kernel , I also tried vectroized and batch version , still not working"
      ]
    },
    {
      "cell_type": "markdown",
      "metadata": {
        "id": "QytUxbcwoUFG"
      },
      "source": [
        "## `iv` Top-K Candidate Generation\n",
        "\n",
        "Selet top-K (a k of your choice) similar items for each item (a user of your choice) rated from the similarity matrix above."
      ]
    },
    {
      "cell_type": "code",
      "execution_count": 88,
      "metadata": {
        "id": "GMkQPTrcoUFH"
      },
      "outputs": [],
      "source": [
        "def get_top_k_similar_items(similarity_matrix, item_id, k):\n",
        "    \"\"\"\n",
        "    Returns the top k similar items to the given item_id.\n",
        "\n",
        "            Parameters:\n",
        "                similarity_matrix (pandas.DataFrame): Item-item similarity matrix\n",
        "                item_id (int): Item ID\n",
        "                k (int): Number of similar items to return\n",
        "\n",
        "            Returns:\n",
        "                top_k_similar_items (list): List of top k similar items\n",
        "    \"\"\"\n",
        "\n",
        "    top_k_similar_items = similarity_matrix.loc[item_id].sort_values(ascending=False).head(k).index.tolist()\n",
        "\n",
        "    return top_k_similar_items\n",
        "  "
      ]
    },
    {
      "cell_type": "markdown",
      "metadata": {
        "id": "50gzumBIoUFH"
      },
      "source": [
        "## `v` Candidate Filtering\n",
        "\n",
        "Filter out items (your user) has rated from the candidates above."
      ]
    },
    {
      "cell_type": "code",
      "execution_count": 89,
      "metadata": {
        "id": "8XQNIczDoUFH"
      },
      "outputs": [],
      "source": [
        "def get_user_unlistened_songs(user_id, utility_matrix):\n",
        "    \"\"\"\n",
        "    Returns the songs that the user has not listened to.\n",
        "\n",
        "            Parameters:\n",
        "                user_id (int): User ID\n",
        "                utility_matrix (pandas.DataFrame): Utility matrix\n",
        "\n",
        "            Returns:\n",
        "                unlistened_songs (list): List of songs that the user has not listened to\n",
        "    \"\"\"\n",
        "\n",
        "    unlistened_songs = utility_matrix.columns[utility_matrix.loc[user_id] == 0].tolist()\n",
        "\n",
        "    return unlistened_songs"
      ]
    },
    {
      "cell_type": "markdown",
      "metadata": {
        "id": "k4m4gLeioUFH"
      },
      "source": [
        "## `vi` Candidate Rating Prediction\n",
        "\n",
        "Calculate the predicted rating for each of the candidate items."
      ]
    },
    {
      "cell_type": "code",
      "execution_count": 90,
      "metadata": {
        "id": "SeBESPnIoUFH"
      },
      "outputs": [],
      "source": [
        "def predict_rating(user_id, item_id, utility_matrix, sim_df, k):\n",
        "    \"\"\"\n",
        "    Returns the predicted rating for the given user and item.\n",
        "\n",
        "            Parameters:\n",
        "                user_id (int): User ID\n",
        "                item_id (int): Item ID\n",
        "                utility_matrix (pandas.DataFrame): Utility matrix\n",
        "                sim_df (pandas.DataFrame): Item-item similarity matrix\n",
        "                k (int): Number of similar items to consider\n",
        "\n",
        "            Returns:\n",
        "                predicted_rating (float): Predicted rating for the given user and item\n",
        "    \"\"\"\n",
        "\n",
        "    unlistened_songs = get_user_unlistened_songs(user_id, utility_matrix)\n",
        "    sim_items = get_top_k_similar_items(sim_df, item_id, k)\n",
        "    rating_numerator = 0\n",
        "    rating_denominator = 0\n",
        "\n",
        "    for song in unlistened_songs:\n",
        "        if song != item_id:\n",
        "            if song in sim_items:\n",
        "                rating_numerator += utility_matrix.loc[user_id, song] * sim_df.loc[item_id, song]\n",
        "                rating_denominator += sim_df.loc[item_id, song]\n",
        "\n",
        "    if rating_denominator != 0:\n",
        "        predicted_rating = rating_numerator / rating_denominator\n",
        "    else:\n",
        "        predicted_rating = 0\n",
        "\n",
        "    return predicted_rating"
      ]
    },
    {
      "cell_type": "markdown",
      "metadata": {
        "id": "DXKSCyP1oUFH"
      },
      "source": [
        "--------------------------\n",
        "\n",
        "# `04` KNN Item-based Colaborative Filtering\n",
        "\n",
        "Practice for Using Scikit Surprise Library"
      ]
    },
    {
      "cell_type": "markdown",
      "metadata": {
        "id": "jFYKJJZHoUFI"
      },
      "source": [
        "## `i` Data Loading\n",
        "\n",
        "Load `songsDataset.csv` file into a dataframe"
      ]
    },
    {
      "cell_type": "code",
      "execution_count": 54,
      "metadata": {
        "id": "9xL-bPu6oUFI",
        "outputId": "a4ec1d50-9c7f-4884-c257-fcf082ef780c"
      },
      "outputs": [
        {
          "data": {
            "text/html": [
              "<div>\n",
              "<style scoped>\n",
              "    .dataframe tbody tr th:only-of-type {\n",
              "        vertical-align: middle;\n",
              "    }\n",
              "\n",
              "    .dataframe tbody tr th {\n",
              "        vertical-align: top;\n",
              "    }\n",
              "\n",
              "    .dataframe thead th {\n",
              "        text-align: right;\n",
              "    }\n",
              "</style>\n",
              "<table border=\"1\" class=\"dataframe\">\n",
              "  <thead>\n",
              "    <tr style=\"text-align: right;\">\n",
              "      <th></th>\n",
              "      <th>userID</th>\n",
              "      <th>songID</th>\n",
              "      <th>rating</th>\n",
              "    </tr>\n",
              "  </thead>\n",
              "  <tbody>\n",
              "    <tr>\n",
              "      <th>0</th>\n",
              "      <td>0</td>\n",
              "      <td>90409</td>\n",
              "      <td>5</td>\n",
              "    </tr>\n",
              "    <tr>\n",
              "      <th>1</th>\n",
              "      <td>4</td>\n",
              "      <td>91266</td>\n",
              "      <td>1</td>\n",
              "    </tr>\n",
              "    <tr>\n",
              "      <th>2</th>\n",
              "      <td>5</td>\n",
              "      <td>8063</td>\n",
              "      <td>2</td>\n",
              "    </tr>\n",
              "    <tr>\n",
              "      <th>3</th>\n",
              "      <td>5</td>\n",
              "      <td>24427</td>\n",
              "      <td>4</td>\n",
              "    </tr>\n",
              "    <tr>\n",
              "      <th>4</th>\n",
              "      <td>5</td>\n",
              "      <td>105433</td>\n",
              "      <td>4</td>\n",
              "    </tr>\n",
              "  </tbody>\n",
              "</table>\n",
              "</div>"
            ],
            "text/plain": [
              "   userID  songID  rating\n",
              "0       0   90409       5\n",
              "1       4   91266       1\n",
              "2       5    8063       2\n",
              "3       5   24427       4\n",
              "4       5  105433       4"
            ]
          },
          "execution_count": 54,
          "metadata": {},
          "output_type": "execute_result"
        }
      ],
      "source": [
        "df = pd.read_csv('Data/songsDataset.csv')\n",
        "df.head()"
      ]
    },
    {
      "cell_type": "markdown",
      "metadata": {
        "id": "Vkb8kiLfoUFI"
      },
      "source": [
        "## `ii` Prepare Data\n",
        "\n",
        "Procedures to Follow:\n",
        "- Instantiate the Reader Object (see, [Documentation](https://surprise.readthedocs.io/en/stable/reader.html))\n",
        "- Load the Data into `surprise.dataset.Dataset` (see, [Documentation](https://surprise.readthedocs.io/en/stable/dataset.html))\n",
        "- Build the full (i.e. without folds) `surprise.Trainset` (see, [Documentation](https://surprise.readthedocs.io/en/stable/trainset.html#:~:text=It%20is%20used%20by%20the%20fit()%20method%20of%20every%20prediction%20algorithm.%20You%20should%20not%20try%20to%20build%20such%20an%20object%20on%20your%20own%20but%20rather%20use%20the%20Dataset.folds()%20method%20or%20the%20DatasetAutoFolds.build_full_trainset()%20method.))"
      ]
    },
    {
      "cell_type": "code",
      "execution_count": 13,
      "metadata": {
        "id": "gmLTkofQoUFI"
      },
      "outputs": [],
      "source": [
        "reader = Reader(rating_scale=(0,5))"
      ]
    },
    {
      "cell_type": "code",
      "execution_count": 30,
      "metadata": {
        "id": "h79A2pn0oUFJ",
        "outputId": "901c8a21-5c38-48bc-815f-41f601abda23"
      },
      "outputs": [],
      "source": [
        "data =Dataset.load_from_df(df, reader)\n",
        "trainset = data.build_full_trainset()\n",
        "train, test = train_test_split(data, 0.2, random_state=1234)"
      ]
    },
    {
      "cell_type": "markdown",
      "metadata": {
        "id": "j_iaKXiDoUFJ"
      },
      "source": [
        "## `iii` Initialize the `KNNWithMeans` Model\n",
        "\n",
        "**Note**: `KNNWithMeans` uses the normalized ratings instead of the raw ones. (See [Documentation](https://surprise.readthedocs.io/en/stable/knn_inspired.html#surprise.prediction_algorithms.knns.KNNWithMeans))\n",
        "\n",
        "**Hint**: Use $k=10$ and configure `sim_options` to be:\n",
        "- item_based\n",
        "- pearson"
      ]
    },
    {
      "cell_type": "code",
      "execution_count": 17,
      "metadata": {
        "id": "xsmFxuM8oUFJ"
      },
      "outputs": [],
      "source": [
        "knn_model =KNNWithMeans(k=10, sim_options={'name': 'pearson', 'user_based': False})"
      ]
    },
    {
      "cell_type": "markdown",
      "metadata": {
        "id": "u_bWEf6koUFJ"
      },
      "source": [
        "## `iv` Fit the Model on Data"
      ]
    },
    {
      "cell_type": "code",
      "execution_count": 31,
      "metadata": {
        "id": "q6XOUrjZoUFK",
        "outputId": "cc863e71-5720-407e-8e4d-62a1d3b790de"
      },
      "outputs": [
        {
          "name": "stdout",
          "output_type": "stream",
          "text": [
            "Computing the pearson similarity matrix...\n",
            "Done computing similarity matrix.\n"
          ]
        },
        {
          "data": {
            "text/plain": [
              "<surprise.prediction_algorithms.knns.KNNWithMeans at 0x1b474430690>"
            ]
          },
          "execution_count": 31,
          "metadata": {},
          "output_type": "execute_result"
        }
      ],
      "source": [
        "knn_model.fit(train)"
      ]
    },
    {
      "cell_type": "markdown",
      "metadata": {
        "id": "tSy3mH4loUFK"
      },
      "source": [
        "## `v` Calculate Predicted Rating $\\hat{r}$ for User $199988$\n",
        "\n",
        "**Hine**: you can use `.predict()` method of the model (see [Documentaion](https://surprise.readthedocs.io/en/stable/getting_started.html?highlight=.predict#train-on-a-whole-trainset-and-the-predict-method:~:text=pred%20%3D%20algo.predict(uid%2C%20iid%2C%20r_ui%3D4%2C%20verbose%3DTrue)))"
      ]
    },
    {
      "cell_type": "code",
      "execution_count": 63,
      "metadata": {},
      "outputs": [
        {
          "data": {
            "text/html": [
              "<div>\n",
              "<style scoped>\n",
              "    .dataframe tbody tr th:only-of-type {\n",
              "        vertical-align: middle;\n",
              "    }\n",
              "\n",
              "    .dataframe tbody tr th {\n",
              "        vertical-align: top;\n",
              "    }\n",
              "\n",
              "    .dataframe thead th {\n",
              "        text-align: right;\n",
              "    }\n",
              "</style>\n",
              "<table border=\"1\" class=\"dataframe\">\n",
              "  <thead>\n",
              "    <tr style=\"text-align: right;\">\n",
              "      <th></th>\n",
              "      <th>songID</th>\n",
              "    </tr>\n",
              "  </thead>\n",
              "  <tbody>\n",
              "    <tr>\n",
              "      <th>0</th>\n",
              "      <td>90409</td>\n",
              "    </tr>\n",
              "    <tr>\n",
              "      <th>1</th>\n",
              "      <td>91266</td>\n",
              "    </tr>\n",
              "    <tr>\n",
              "      <th>2</th>\n",
              "      <td>8063</td>\n",
              "    </tr>\n",
              "    <tr>\n",
              "      <th>3</th>\n",
              "      <td>24427</td>\n",
              "    </tr>\n",
              "    <tr>\n",
              "      <th>4</th>\n",
              "      <td>105433</td>\n",
              "    </tr>\n",
              "  </tbody>\n",
              "</table>\n",
              "</div>"
            ],
            "text/plain": [
              "   songID\n",
              "0   90409\n",
              "1   91266\n",
              "2    8063\n",
              "3   24427\n",
              "4  105433"
            ]
          },
          "execution_count": 63,
          "metadata": {},
          "output_type": "execute_result"
        }
      ],
      "source": [
        "unique_song_ids = df['songID']\n",
        "song_predictions = pd.DataFrame({'songID': unique_song_ids})\n",
        "song_predictions.head()"
      ]
    },
    {
      "cell_type": "code",
      "execution_count": null,
      "metadata": {
        "id": "maMqelfOoUFK",
        "outputId": "0ed53757-2b05-4956-fbc1-e9b55b86bf85"
      },
      "outputs": [
        {
          "data": {
            "text/html": [
              "<div>\n",
              "<style scoped>\n",
              "    .dataframe tbody tr th:only-of-type {\n",
              "        vertical-align: middle;\n",
              "    }\n",
              "\n",
              "    .dataframe tbody tr th {\n",
              "        vertical-align: top;\n",
              "    }\n",
              "\n",
              "    .dataframe thead th {\n",
              "        text-align: right;\n",
              "    }\n",
              "</style>\n",
              "<table border=\"1\" class=\"dataframe\">\n",
              "  <thead>\n",
              "    <tr style=\"text-align: right;\">\n",
              "      <th></th>\n",
              "      <th>songID</th>\n",
              "    </tr>\n",
              "  </thead>\n",
              "  <tbody>\n",
              "    <tr>\n",
              "      <th>0</th>\n",
              "      <td>90409</td>\n",
              "    </tr>\n",
              "    <tr>\n",
              "      <th>1</th>\n",
              "      <td>91266</td>\n",
              "    </tr>\n",
              "    <tr>\n",
              "      <th>2</th>\n",
              "      <td>8063</td>\n",
              "    </tr>\n",
              "    <tr>\n",
              "      <th>3</th>\n",
              "      <td>24427</td>\n",
              "    </tr>\n",
              "    <tr>\n",
              "      <th>4</th>\n",
              "      <td>105433</td>\n",
              "    </tr>\n",
              "  </tbody>\n",
              "</table>\n",
              "</div>"
            ],
            "text/plain": [
              "   songID\n",
              "0   90409\n",
              "1   91266\n",
              "2    8063\n",
              "3   24427\n",
              "4  105433"
            ]
          },
          "execution_count": 118,
          "metadata": {},
          "output_type": "execute_result"
        }
      ],
      "source": []
    },
    {
      "cell_type": "code",
      "execution_count": 67,
      "metadata": {},
      "outputs": [
        {
          "data": {
            "text/html": [
              "<div>\n",
              "<style scoped>\n",
              "    .dataframe tbody tr th:only-of-type {\n",
              "        vertical-align: middle;\n",
              "    }\n",
              "\n",
              "    .dataframe tbody tr th {\n",
              "        vertical-align: top;\n",
              "    }\n",
              "\n",
              "    .dataframe thead th {\n",
              "        text-align: right;\n",
              "    }\n",
              "</style>\n",
              "<table border=\"1\" class=\"dataframe\">\n",
              "  <thead>\n",
              "    <tr style=\"text-align: right;\">\n",
              "      <th></th>\n",
              "      <th>predicted_rating</th>\n",
              "    </tr>\n",
              "    <tr>\n",
              "      <th>songID</th>\n",
              "      <th></th>\n",
              "    </tr>\n",
              "  </thead>\n",
              "  <tbody>\n",
              "    <tr>\n",
              "      <th>90409</th>\n",
              "      <td>3.450795</td>\n",
              "    </tr>\n",
              "    <tr>\n",
              "      <th>91266</th>\n",
              "      <td>3.450795</td>\n",
              "    </tr>\n",
              "    <tr>\n",
              "      <th>8063</th>\n",
              "      <td>3.450795</td>\n",
              "    </tr>\n",
              "    <tr>\n",
              "      <th>24427</th>\n",
              "      <td>3.450795</td>\n",
              "    </tr>\n",
              "    <tr>\n",
              "      <th>105433</th>\n",
              "      <td>3.450795</td>\n",
              "    </tr>\n",
              "  </tbody>\n",
              "</table>\n",
              "</div>"
            ],
            "text/plain": [
              "        predicted_rating\n",
              "songID                  \n",
              "90409           3.450795\n",
              "91266           3.450795\n",
              "8063            3.450795\n",
              "24427           3.450795\n",
              "105433          3.450795"
            ]
          },
          "execution_count": 67,
          "metadata": {},
          "output_type": "execute_result"
        }
      ],
      "source": [
        "song_predictions['predicted_rating'] = song_predictions['songID'].apply(lambda x: knn_model.predict('199988', x).est)\n",
        "song_predictions.set_index('songID', inplace=True)\n",
        "song_predictions.head()"
      ]
    },
    {
      "cell_type": "code",
      "execution_count": null,
      "metadata": {
        "id": "_054wXQaoUFK",
        "outputId": "845e412f-48b2-4c95-a027-647940df19f3"
      },
      "outputs": [
        {
          "data": {
            "text/html": [
              "<div>\n",
              "<style scoped>\n",
              "    .dataframe tbody tr th:only-of-type {\n",
              "        vertical-align: middle;\n",
              "    }\n",
              "\n",
              "    .dataframe tbody tr th {\n",
              "        vertical-align: top;\n",
              "    }\n",
              "\n",
              "    .dataframe thead th {\n",
              "        text-align: right;\n",
              "    }\n",
              "</style>\n",
              "<table border=\"1\" class=\"dataframe\">\n",
              "  <thead>\n",
              "    <tr style=\"text-align: right;\">\n",
              "      <th></th>\n",
              "      <th>predicted_rating</th>\n",
              "    </tr>\n",
              "    <tr>\n",
              "      <th>songID</th>\n",
              "      <th></th>\n",
              "    </tr>\n",
              "  </thead>\n",
              "  <tbody>\n",
              "    <tr>\n",
              "      <th>90409</th>\n",
              "      <td>4.808493</td>\n",
              "    </tr>\n",
              "    <tr>\n",
              "      <th>91266</th>\n",
              "      <td>4.705610</td>\n",
              "    </tr>\n",
              "    <tr>\n",
              "      <th>8063</th>\n",
              "      <td>4.239800</td>\n",
              "    </tr>\n",
              "    <tr>\n",
              "      <th>24427</th>\n",
              "      <td>4.549136</td>\n",
              "    </tr>\n",
              "    <tr>\n",
              "      <th>105433</th>\n",
              "      <td>4.872347</td>\n",
              "    </tr>\n",
              "  </tbody>\n",
              "</table>\n",
              "</div>"
            ],
            "text/plain": [
              "        predicted_rating\n",
              "songID                  \n",
              "90409           4.808493\n",
              "91266           4.705610\n",
              "8063            4.239800\n",
              "24427           4.549136\n",
              "105433          4.872347"
            ]
          },
          "execution_count": 119,
          "metadata": {},
          "output_type": "execute_result"
        }
      ],
      "source": [
        "song_predictions['predicted_rating'] =None\n",
        "song_predictions.head()"
      ]
    },
    {
      "cell_type": "markdown",
      "metadata": {
        "id": "gxcG8mJ0oUFL"
      },
      "source": [
        "## `vi` Recommend Top 10 Songs"
      ]
    },
    {
      "cell_type": "code",
      "execution_count": 68,
      "metadata": {},
      "outputs": [
        {
          "data": {
            "text/html": [
              "<div>\n",
              "<style scoped>\n",
              "    .dataframe tbody tr th:only-of-type {\n",
              "        vertical-align: middle;\n",
              "    }\n",
              "\n",
              "    .dataframe tbody tr th {\n",
              "        vertical-align: top;\n",
              "    }\n",
              "\n",
              "    .dataframe thead th {\n",
              "        text-align: right;\n",
              "    }\n",
              "</style>\n",
              "<table border=\"1\" class=\"dataframe\">\n",
              "  <thead>\n",
              "    <tr style=\"text-align: right;\">\n",
              "      <th></th>\n",
              "      <th>predicted_rating</th>\n",
              "    </tr>\n",
              "    <tr>\n",
              "      <th>songID</th>\n",
              "      <th></th>\n",
              "    </tr>\n",
              "  </thead>\n",
              "  <tbody>\n",
              "    <tr>\n",
              "      <th>90409</th>\n",
              "      <td>3.450795</td>\n",
              "    </tr>\n",
              "    <tr>\n",
              "      <th>17029</th>\n",
              "      <td>3.450795</td>\n",
              "    </tr>\n",
              "    <tr>\n",
              "      <th>55622</th>\n",
              "      <td>3.450795</td>\n",
              "    </tr>\n",
              "    <tr>\n",
              "      <th>25182</th>\n",
              "      <td>3.450795</td>\n",
              "    </tr>\n",
              "    <tr>\n",
              "      <th>74640</th>\n",
              "      <td>3.450795</td>\n",
              "    </tr>\n",
              "    <tr>\n",
              "      <th>90409</th>\n",
              "      <td>3.450795</td>\n",
              "    </tr>\n",
              "    <tr>\n",
              "      <th>119103</th>\n",
              "      <td>3.450795</td>\n",
              "    </tr>\n",
              "    <tr>\n",
              "      <th>72309</th>\n",
              "      <td>3.450795</td>\n",
              "    </tr>\n",
              "    <tr>\n",
              "      <th>3785</th>\n",
              "      <td>3.450795</td>\n",
              "    </tr>\n",
              "    <tr>\n",
              "      <th>2263</th>\n",
              "      <td>3.450795</td>\n",
              "    </tr>\n",
              "  </tbody>\n",
              "</table>\n",
              "</div>"
            ],
            "text/plain": [
              "        predicted_rating\n",
              "songID                  \n",
              "90409           3.450795\n",
              "17029           3.450795\n",
              "55622           3.450795\n",
              "25182           3.450795\n",
              "74640           3.450795\n",
              "90409           3.450795\n",
              "119103          3.450795\n",
              "72309           3.450795\n",
              "3785            3.450795\n",
              "2263            3.450795"
            ]
          },
          "execution_count": 68,
          "metadata": {},
          "output_type": "execute_result"
        }
      ],
      "source": [
        "song_predictions_sorted = song_predictions.sort_values('predicted_rating', ascending=False)\n",
        "song_predictions_sorted.head(10)"
      ]
    },
    {
      "cell_type": "code",
      "execution_count": null,
      "metadata": {
        "id": "ptMj0kTDoUFM",
        "outputId": "6cdebc0f-e16a-4dff-d510-63dd96046090"
      },
      "outputs": [
        {
          "data": {
            "text/html": [
              "<div>\n",
              "<style scoped>\n",
              "    .dataframe tbody tr th:only-of-type {\n",
              "        vertical-align: middle;\n",
              "    }\n",
              "\n",
              "    .dataframe tbody tr th {\n",
              "        vertical-align: top;\n",
              "    }\n",
              "\n",
              "    .dataframe thead th {\n",
              "        text-align: right;\n",
              "    }\n",
              "</style>\n",
              "<table border=\"1\" class=\"dataframe\">\n",
              "  <thead>\n",
              "    <tr style=\"text-align: right;\">\n",
              "      <th></th>\n",
              "      <th>predicted_rating</th>\n",
              "    </tr>\n",
              "    <tr>\n",
              "      <th>songID</th>\n",
              "      <th></th>\n",
              "    </tr>\n",
              "  </thead>\n",
              "  <tbody>\n",
              "    <tr>\n",
              "      <th>60888</th>\n",
              "      <td>5.000000</td>\n",
              "    </tr>\n",
              "    <tr>\n",
              "      <th>122065</th>\n",
              "      <td>5.000000</td>\n",
              "    </tr>\n",
              "    <tr>\n",
              "      <th>132189</th>\n",
              "      <td>5.000000</td>\n",
              "    </tr>\n",
              "    <tr>\n",
              "      <th>71582</th>\n",
              "      <td>5.000000</td>\n",
              "    </tr>\n",
              "    <tr>\n",
              "      <th>52611</th>\n",
              "      <td>5.000000</td>\n",
              "    </tr>\n",
              "    <tr>\n",
              "      <th>62954</th>\n",
              "      <td>5.000000</td>\n",
              "    </tr>\n",
              "    <tr>\n",
              "      <th>112023</th>\n",
              "      <td>5.000000</td>\n",
              "    </tr>\n",
              "    <tr>\n",
              "      <th>40712</th>\n",
              "      <td>5.000000</td>\n",
              "    </tr>\n",
              "    <tr>\n",
              "      <th>126757</th>\n",
              "      <td>4.983563</td>\n",
              "    </tr>\n",
              "    <tr>\n",
              "      <th>92881</th>\n",
              "      <td>4.941095</td>\n",
              "    </tr>\n",
              "  </tbody>\n",
              "</table>\n",
              "</div>"
            ],
            "text/plain": [
              "        predicted_rating\n",
              "songID                  \n",
              "60888           5.000000\n",
              "122065          5.000000\n",
              "132189          5.000000\n",
              "71582           5.000000\n",
              "52611           5.000000\n",
              "62954           5.000000\n",
              "112023          5.000000\n",
              "40712           5.000000\n",
              "126757          4.983563\n",
              "92881           4.941095"
            ]
          },
          "execution_count": 116,
          "metadata": {},
          "output_type": "execute_result"
        }
      ],
      "source": []
    },
    {
      "cell_type": "markdown",
      "metadata": {
        "id": "lO44W2tHoUFM"
      },
      "source": [
        "----------------------------------------------\n",
        "\n",
        "$$ Wish \\space you \\space all \\space the \\space best \\space ♡ $$\n",
        "$$ Abdelrahman \\space Eid $$"
      ]
    }
  ],
  "metadata": {
    "colab": {
      "provenance": []
    },
    "kernelspec": {
      "display_name": "base",
      "language": "python",
      "name": "python3"
    },
    "language_info": {
      "codemirror_mode": {
        "name": "ipython",
        "version": 3
      },
      "file_extension": ".py",
      "mimetype": "text/x-python",
      "name": "python",
      "nbconvert_exporter": "python",
      "pygments_lexer": "ipython3",
      "version": "3.11.3"
    },
    "orig_nbformat": 4,
    "vscode": {
      "interpreter": {
        "hash": "ad2bdc8ecc057115af97d19610ffacc2b4e99fae6737bb82f5d7fb13d2f2c186"
      }
    }
  },
  "nbformat": 4,
  "nbformat_minor": 0
}
